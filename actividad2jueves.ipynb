{
 "cells": [
  {
   "cell_type": "code",
   "execution_count": 1,
   "metadata": {},
   "outputs": [],
   "source": [
    "import pandas as pd\n",
    "import matplotlib.pyplot as plt\n",
    "import numpy as np\n",
    "import seaborn as sns"
   ]
  },
  {
   "cell_type": "code",
   "execution_count": 6,
   "metadata": {},
   "outputs": [
    {
     "name": "stdout",
     "output_type": "stream",
     "text": [
      "   Genero  Edad  Ingresos Anuales (k$)  Puntos en compras (1-100)\n",
      "0  Hombre    19                     15                         39\n",
      "1  Hombre    21                     15                         81\n",
      "2   Mujer    20                     16                          6\n",
      "3   Mujer    23                     16                         77\n",
      "4   Mujer    31                     17                         40\n",
      "5   Mujer    22                     17                         76\n",
      "6   Mujer    35                     18                          6\n",
      "7   Mujer    23                     18                         94\n",
      "8  Hombre    64                     19                          3\n",
      "9   Mujer    30                     19                         72\n"
     ]
    }
   ],
   "source": [
    "df = pd.read_csv(\"clientes-centro-comercial.csv\")\n",
    "df = df.drop('IDcliente',axis=1)\n",
    "print(df.head(10))"
   ]
  }
 ],
 "metadata": {
  "kernelspec": {
   "display_name": "env_name",
   "language": "python",
   "name": "python3"
  },
  "language_info": {
   "codemirror_mode": {
    "name": "ipython",
    "version": 3
   },
   "file_extension": ".py",
   "mimetype": "text/x-python",
   "name": "python",
   "nbconvert_exporter": "python",
   "pygments_lexer": "ipython3",
   "version": "3.9.6"
  },
  "orig_nbformat": 4
 },
 "nbformat": 4,
 "nbformat_minor": 2
}
