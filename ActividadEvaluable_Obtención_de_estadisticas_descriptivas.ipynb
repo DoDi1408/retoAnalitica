{
 "cells": [
  {
   "cell_type": "code",
   "execution_count": 1,
   "metadata": {},
   "outputs": [],
   "source": [
    "#imports \n",
    "import pandas as pd\n",
    "import random\n",
    "import numpy as np"
   ]
  },
  {
   "cell_type": "code",
   "execution_count": 2,
   "metadata": {},
   "outputs": [],
   "source": [
    "#importar tabla\n",
    "df = pd.read_csv(\"clientes-centro-comercial.csv\")"
   ]
  },
  {
   "cell_type": "code",
   "execution_count": 3,
   "metadata": {},
   "outputs": [
    {
     "data": {
      "text/plain": [
       "IDcliente                     int64\n",
       "Genero                       object\n",
       "Edad                          int64\n",
       "Ingresos Anuales (k$)         int64\n",
       "Puntos en compras (1-100)     int64\n",
       "dtype: object"
      ]
     },
     "execution_count": 3,
     "metadata": {},
     "output_type": "execute_result"
    }
   ],
   "source": [
    "(df.dtypes)"
   ]
  },
  {
   "cell_type": "markdown",
   "metadata": {},
   "source": [
    "Aqui arriba voy a mostrar los datos que contiene este csv, podemos ver que hay ids, genero, edad, ingresos anuales, y puntos de compra "
   ]
  },
  {
   "cell_type": "code",
   "execution_count": 4,
   "metadata": {},
   "outputs": [
    {
     "name": "stdout",
     "output_type": "stream",
     "text": [
      "\n",
      "El rango de Edad va desde:  18  hasta  70\n",
      "El rango de Ingresos Anuales va desde:  15  hasta  137\n",
      "El rango de Puntos en compras va desde:  1  hasta  99\n"
     ]
    }
   ],
   "source": [
    "print(\"\\nEl rango de Edad va desde: \", df['Edad'].min(), \" hasta \", df['Edad'].max())\n",
    "print(\"El rango de Ingresos Anuales va desde: \", df['Ingresos Anuales (k$)'].min(), \" hasta \", df['Ingresos Anuales (k$)'].max())\n",
    "print(\"El rango de Puntos en compras va desde: \", df['Puntos en compras (1-100)'].min(), \" hasta \", df['Puntos en compras (1-100)'].max())"
   ]
  },
  {
   "cell_type": "markdown",
   "metadata": {},
   "source": [
    "Voy a crear los filtros que voy a usar"
   ]
  },
  {
   "cell_type": "code",
   "execution_count": 22,
   "metadata": {},
   "outputs": [],
   "source": [
    "filtro_hombres = df[ (df['Genero'] == \"Hombre\")]\n",
    "filtro_mujeres = df[ (df['Genero'] == \"Mujer\")]\n",
    "filtro_jovenes = df[ (df['Edad'] <= 30)]\n",
    "filtro_medio = df[ (df['Edad'] > 30) & (df['Edad'] <= 50)]\n",
    "filtro_viejos = df[ (df['Edad'] > 50)]"
   ]
  },
  {
   "cell_type": "markdown",
   "metadata": {},
   "source": [
    "Imprimimos los rangos de edad, ingresos y puntos de compra para hombres y mujeres"
   ]
  },
  {
   "cell_type": "code",
   "execution_count": 7,
   "metadata": {},
   "outputs": [
    {
     "name": "stdout",
     "output_type": "stream",
     "text": [
      "\n",
      "El rango de Edad (Hombres) va desde:  18  hasta  70\n",
      "El rango de Ingresos Anuales (Hombres) va desde:  15  hasta  137\n",
      "El rango de Puntos en compras (Hombres) va desde:  1  hasta  97\n",
      "\n",
      "El rango de Edad (Mujer) va desde:  18  hasta  68\n",
      "El rango de Ingresos Anuales (Mujer) va desde:  16  hasta  126\n",
      "El rango de Puntos en compras (Mujer) va desde:  5  hasta  99\n"
     ]
    }
   ],
   "source": [
    "print(\"\\nEl rango de Edad (Hombres) va desde: \", filtro_hombres['Edad'].min(), \" hasta \", filtro_hombres['Edad'].max())\n",
    "print(\"El rango de Ingresos Anuales (Hombres) va desde: \", filtro_hombres['Ingresos Anuales (k$)'].min(), \" hasta \", filtro_hombres['Ingresos Anuales (k$)'].max())\n",
    "print(\"El rango de Puntos en compras (Hombres) va desde: \", filtro_hombres['Puntos en compras (1-100)'].min(), \" hasta \", filtro_hombres['Puntos en compras (1-100)'].max())\n",
    "print(\"\\nEl rango de Edad (Mujer) va desde: \", filtro_mujeres['Edad'].min(), \" hasta \", filtro_mujeres['Edad'].max())\n",
    "print(\"El rango de Ingresos Anuales (Mujer) va desde: \", filtro_mujeres['Ingresos Anuales (k$)'].min(), \" hasta \", filtro_mujeres['Ingresos Anuales (k$)'].max())\n",
    "print(\"El rango de Puntos en compras (Mujer) va desde: \", filtro_mujeres['Puntos en compras (1-100)'].min(), \" hasta \", filtro_mujeres['Puntos en compras (1-100)'].max())"
   ]
  },
  {
   "cell_type": "markdown",
   "metadata": {},
   "source": [
    "Voy a imprimir la moda de esta tabla (son mujeres), el mean y median."
   ]
  },
  {
   "cell_type": "code",
   "execution_count": 13,
   "metadata": {},
   "outputs": [
    {
     "data": {
      "text/plain": [
       "0    Mujer\n",
       "Name: Genero, dtype: object"
      ]
     },
     "execution_count": 13,
     "metadata": {},
     "output_type": "execute_result"
    }
   ],
   "source": [
    "(df['Genero'].mode())"
   ]
  },
  {
   "cell_type": "markdown",
   "metadata": {},
   "source": [
    "Hay mas mujeres"
   ]
  },
  {
   "cell_type": "code",
   "execution_count": 14,
   "metadata": {},
   "outputs": [
    {
     "data": {
      "text/html": [
       "<div>\n",
       "<style scoped>\n",
       "    .dataframe tbody tr th:only-of-type {\n",
       "        vertical-align: middle;\n",
       "    }\n",
       "\n",
       "    .dataframe tbody tr th {\n",
       "        vertical-align: top;\n",
       "    }\n",
       "\n",
       "    .dataframe thead th {\n",
       "        text-align: right;\n",
       "    }\n",
       "</style>\n",
       "<table border=\"1\" class=\"dataframe\">\n",
       "  <thead>\n",
       "    <tr style=\"text-align: right;\">\n",
       "      <th></th>\n",
       "      <th>IDcliente</th>\n",
       "      <th>Edad</th>\n",
       "      <th>Ingresos Anuales (k$)</th>\n",
       "      <th>Puntos en compras (1-100)</th>\n",
       "    </tr>\n",
       "    <tr>\n",
       "      <th>Genero</th>\n",
       "      <th></th>\n",
       "      <th></th>\n",
       "      <th></th>\n",
       "      <th></th>\n",
       "    </tr>\n",
       "  </thead>\n",
       "  <tbody>\n",
       "    <tr>\n",
       "      <th>Hombre</th>\n",
       "      <td>106.5</td>\n",
       "      <td>37.0</td>\n",
       "      <td>62.5</td>\n",
       "      <td>50.0</td>\n",
       "    </tr>\n",
       "    <tr>\n",
       "      <th>Mujer</th>\n",
       "      <td>94.5</td>\n",
       "      <td>35.0</td>\n",
       "      <td>60.0</td>\n",
       "      <td>50.0</td>\n",
       "    </tr>\n",
       "  </tbody>\n",
       "</table>\n",
       "</div>"
      ],
      "text/plain": [
       "        IDcliente  Edad  Ingresos Anuales (k$)  Puntos en compras (1-100)\n",
       "Genero                                                                   \n",
       "Hombre      106.5  37.0                   62.5                       50.0\n",
       "Mujer        94.5  35.0                   60.0                       50.0"
      ]
     },
     "execution_count": 14,
     "metadata": {},
     "output_type": "execute_result"
    }
   ],
   "source": [
    "(df.groupby(['Genero']).median())"
   ]
  },
  {
   "cell_type": "code",
   "execution_count": 15,
   "metadata": {},
   "outputs": [
    {
     "data": {
      "text/html": [
       "<div>\n",
       "<style scoped>\n",
       "    .dataframe tbody tr th:only-of-type {\n",
       "        vertical-align: middle;\n",
       "    }\n",
       "\n",
       "    .dataframe tbody tr th {\n",
       "        vertical-align: top;\n",
       "    }\n",
       "\n",
       "    .dataframe thead th {\n",
       "        text-align: right;\n",
       "    }\n",
       "</style>\n",
       "<table border=\"1\" class=\"dataframe\">\n",
       "  <thead>\n",
       "    <tr style=\"text-align: right;\">\n",
       "      <th></th>\n",
       "      <th>IDcliente</th>\n",
       "      <th>Edad</th>\n",
       "      <th>Ingresos Anuales (k$)</th>\n",
       "      <th>Puntos en compras (1-100)</th>\n",
       "    </tr>\n",
       "    <tr>\n",
       "      <th>Genero</th>\n",
       "      <th></th>\n",
       "      <th></th>\n",
       "      <th></th>\n",
       "      <th></th>\n",
       "    </tr>\n",
       "  </thead>\n",
       "  <tbody>\n",
       "    <tr>\n",
       "      <th>Hombre</th>\n",
       "      <td>104.238636</td>\n",
       "      <td>39.806818</td>\n",
       "      <td>62.227273</td>\n",
       "      <td>48.511364</td>\n",
       "    </tr>\n",
       "    <tr>\n",
       "      <th>Mujer</th>\n",
       "      <td>97.562500</td>\n",
       "      <td>38.098214</td>\n",
       "      <td>59.250000</td>\n",
       "      <td>51.526786</td>\n",
       "    </tr>\n",
       "  </tbody>\n",
       "</table>\n",
       "</div>"
      ],
      "text/plain": [
       "         IDcliente       Edad  Ingresos Anuales (k$)  \\\n",
       "Genero                                                 \n",
       "Hombre  104.238636  39.806818              62.227273   \n",
       "Mujer    97.562500  38.098214              59.250000   \n",
       "\n",
       "        Puntos en compras (1-100)  \n",
       "Genero                             \n",
       "Hombre                  48.511364  \n",
       "Mujer                   51.526786  "
      ]
     },
     "execution_count": 15,
     "metadata": {},
     "output_type": "execute_result"
    }
   ],
   "source": [
    "(df.groupby(['Genero']).mean())"
   ]
  },
  {
   "cell_type": "markdown",
   "metadata": {},
   "source": [
    "Los hombres demuestren tener en promedio mas edad, con mas ingresos, y menos puntos de compra relativo a las mujeres."
   ]
  },
  {
   "cell_type": "code",
   "execution_count": 17,
   "metadata": {},
   "outputs": [
    {
     "name": "stdout",
     "output_type": "stream",
     "text": [
      "\n",
      "Desviaciones estandar de ingresos por genero: \n",
      "Mujer:  26.01195151505595\n",
      "Hombre:  26.638373182494128\n"
     ]
    }
   ],
   "source": [
    "sdm = filtro_mujeres['Ingresos Anuales (k$)'].std()\n",
    "sdh = filtro_hombres['Ingresos Anuales (k$)'].std()\n",
    "\n",
    "print(\"\\nDesviaciones estandar de ingresos por genero: \")\n",
    "print(\"Mujer: \", sdm)\n",
    "print(\"Hombre: \",sdh)"
   ]
  },
  {
   "cell_type": "markdown",
   "metadata": {},
   "source": [
    "La desviacion estandar es casi igual."
   ]
  },
  {
   "cell_type": "code",
   "execution_count": 24,
   "metadata": {},
   "outputs": [
    {
     "name": "stdout",
     "output_type": "stream",
     "text": [
      "\n",
      "Promedio de Ingresos Jovenes (<= 30): \n",
      "54.25\n",
      "\n",
      "Promedio de Ingresos Medios (>30 y <= 60): \n",
      "66.0340909090909\n",
      "\n",
      "Promedio de Ingresos Viejos (>60): \n",
      "53.2\n"
     ]
    }
   ],
   "source": [
    "#imprimo los ingresos de jovenes calculando el promedio\n",
    "print(\"\\nPromedio de Ingresos Jovenes (<= 30): \")\n",
    "sorted_jovenes = filtro_jovenes['Ingresos Anuales (k$)'].sort_values()\n",
    "sorted_jovenes = sorted_jovenes.reset_index(drop=True)\n",
    "p = 5\n",
    "print(sorted_jovenes[p:-p].mean())\n",
    "\n",
    "#imprimo los ingresos de middle aged calculando el promedio\n",
    "print(\"\\nPromedio de Ingresos Medios (>30 y <= 50): \")\n",
    "sorted_medio = filtro_medio['Ingresos Anuales (k$)'].sort_values()\n",
    "sorted_medio = sorted_medio.reset_index(drop=True)\n",
    "p = 5\n",
    "print(sorted_medio[p:-p].mean())\n",
    "\n",
    "#imprimo los ingresos de viejos calculando el promedio\n",
    "print(\"\\nPromedio de Ingresos Viejos (>50): \")\n",
    "sorted_viejos = filtro_viejos['Ingresos Anuales (k$)'].sort_values()\n",
    "sorted_viejos = sorted_viejos.reset_index(drop=True)\n",
    "p = 5\n",
    "print(sorted_viejos[p:-p].mean())\n"
   ]
  },
  {
   "cell_type": "markdown",
   "metadata": {},
   "source": [
    "Podemos ver que hay una gran disparidad de ingresos entre los rangos de edades que escogimos."
   ]
  },
  {
   "cell_type": "code",
   "execution_count": 25,
   "metadata": {},
   "outputs": [
    {
     "name": "stdout",
     "output_type": "stream",
     "text": [
      "\n",
      "Promedio de Puntos en compras (1-100) Jovenes (<= 30): \n",
      "62.96153846153846\n",
      "\n",
      "Promedio de Puntos en compras (1-100) (>30 y <= 60): \n",
      "48.375\n",
      "\n",
      "Promedio de Puntos en compras (1-100) Viejos (>60): \n",
      "39.333333333333336\n"
     ]
    }
   ],
   "source": [
    "#imprimo los ingresos de jovenes calculando el promedio\n",
    "print(\"\\nPromedio de Puntos en compras (1-100) Jovenes (<= 30): \")\n",
    "sorted_jovenes = filtro_jovenes['Puntos en compras (1-100)'].sort_values()\n",
    "sorted_jovenes = sorted_jovenes.reset_index(drop=True)\n",
    "p = 5\n",
    "print(sorted_jovenes[p:-p].mean())\n",
    "\n",
    "#imprimo los ingresos de middle aged calculando el promedio\n",
    "print(\"\\nPromedio de Puntos en compras (1-100) (>30 y <= 50): \")\n",
    "sorted_medio = filtro_medio['Puntos en compras (1-100)'].sort_values()\n",
    "sorted_medio = sorted_medio.reset_index(drop=True)\n",
    "p = 5\n",
    "print(sorted_medio[p:-p].mean())\n",
    "\n",
    "#imprimo los ingresos de viejos calculando el promedio\n",
    "print(\"\\nPromedio de Puntos en compras (1-100) Viejos (>50): \")\n",
    "sorted_viejos = filtro_viejos['Puntos en compras (1-100)'].sort_values()\n",
    "sorted_viejos = sorted_viejos.reset_index(drop=True)\n",
    "p = 5\n",
    "print(sorted_viejos[p:-p].mean())"
   ]
  },
  {
   "cell_type": "markdown",
   "metadata": {},
   "source": [
    "CONCLUSION:\n",
    "Viendo estos datos podemos extraer varias conclusiones, primero es que los hombres en promedio tienen mas salario, segundo, las mujeres tienen mas puntos de compra, aunque no se como se obtienen estos puntos, voy a asumir que esto significa que compran mas relativo a los hombres. Tercero es que entre las edades de 30 y 60 tienen un ingreso promedio mas alto. La ultima conclusión es que los que mas compran son los jovenes."
   ]
  }
 ],
 "metadata": {
  "kernelspec": {
   "display_name": "env_name",
   "language": "python",
   "name": "python3"
  },
  "language_info": {
   "codemirror_mode": {
    "name": "ipython",
    "version": 3
   },
   "file_extension": ".py",
   "mimetype": "text/x-python",
   "name": "python",
   "nbconvert_exporter": "python",
   "pygments_lexer": "ipython3",
   "version": "3.9.6"
  },
  "orig_nbformat": 4
 },
 "nbformat": 4,
 "nbformat_minor": 2
}
